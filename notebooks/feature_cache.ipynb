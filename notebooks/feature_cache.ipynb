{
 "cells": [
  {
   "cell_type": "code",
   "execution_count": 20,
   "metadata": {},
   "outputs": [],
   "source": [
    "import json\n",
    "import os\n",
    "from glob import glob\n",
    "\n",
    "import torch\n",
    "import numpy as np\n",
    "from safetensors.torch import save_file, load_file\n",
    "\n",
    "from transformers import AutoTokenizer, AutoModel"
   ]
  },
  {
   "cell_type": "code",
   "execution_count": 21,
   "metadata": {},
   "outputs": [],
   "source": [
    "model_name = \"facebook/opt-350m\"\n",
    "tokenizer = AutoTokenizer.from_pretrained(model_name)\n",
    "model = AutoModel.from_pretrained(model_name, load_in_8bit=True, device_map=\"auto\")"
   ]
  },
  {
   "cell_type": "code",
   "execution_count": 22,
   "metadata": {},
   "outputs": [],
   "source": [
    "shards = glob(\"../../../data/text-laion-20M-images-with-text-train/*\")"
   ]
  },
  {
   "cell_type": "code",
   "execution_count": 23,
   "metadata": {},
   "outputs": [],
   "source": [
    "shard = shards[0]"
   ]
  },
  {
   "cell_type": "code",
   "execution_count": 24,
   "metadata": {},
   "outputs": [
    {
     "name": "stderr",
     "output_type": "stream",
     "text": [
      "Asking to truncate to max_length but no maximum length is provided and the model has no predefined maximum length. Default to no truncation.\n"
     ]
    }
   ],
   "source": [
    "batch_size = 8\n",
    "max_length - 128\n",
    "extract_layer = -1\n",
    "if extract_layer < 0:\n",
    "    _extract_layer = model.config.num_hidden_layers + extract_layer\n",
    "\n",
    "batch = []\n",
    "file_suffix = os.path.basename(model_name) + \"_layer\" + str(_extract_layer) + \".safetensors\"\n",
    "save_dir = \"features/\"\n",
    "os.makedirs(save_dir, exist_ok=True)\n",
    "\n",
    "for meta_path in glob(os.path.join(shard, \"*.json\")):\n",
    "    id_ = os.path.basename(meta_path).rstrip(\".json\")\n",
    "    meta = json.load(open(meta_path))\n",
    "\n",
    "    caption = meta[\"caption\"]\n",
    "    batch.append({\"id\": id_, \"caption\": caption})\n",
    "\n",
    "    if len(batch) == batch_size:\n",
    "        captions_batch = [x[\"caption\"] for x in batch]\n",
    "        inputs = tokenizer(captions_batch, return_tensors=\"pt\", padding=True, truncation=True, max_length=max_length).to(\"cuda\")\n",
    "        with torch.no_grad():\n",
    "            output = model(**inputs, output_hidden_states=True)\n",
    "            hidden_states = output.hidden_states[extract_layer].cpu()\n",
    "            for i, item in enumerate(batch):\n",
    "                item_id = item[\"id\"]\n",
    "                file_path = os.path.join(save_dir, f\"{item_id}_{file_suffix}\")\n",
    "                save_file({\"hidden_states\": hidden_states[i]}, file_path)\n",
    "        batch = []\n",
    "        break"
   ]
  },
  {
   "cell_type": "code",
   "execution_count": 19,
   "metadata": {},
   "outputs": [
    {
     "data": {
      "text/plain": [
       "{'hidden_states': tensor([[-1.6025,  0.0000, -0.8257,  ..., -1.3506,  0.9683, -1.4590],\n",
       "         [ 1.9883,  1.7012, -3.8281,  ..., -0.1750, -0.2998, -0.0864],\n",
       "         [-1.3213,  0.8457,  1.4121,  ..., -1.4688, -4.5781, -0.7188],\n",
       "         ...,\n",
       "         [-1.6465,  6.1914,  1.8418,  ...,  2.0059, -0.7075,  0.1279],\n",
       "         [-1.6465,  6.1914,  1.8418,  ...,  2.0059, -0.7075,  0.1279],\n",
       "         [-1.6465,  6.1914,  1.8418,  ...,  2.0059, -0.7075,  0.1279]],\n",
       "        dtype=torch.float16)}"
      ]
     },
     "execution_count": 19,
     "metadata": {},
     "output_type": "execute_result"
    }
   ],
   "source": [
    "load_file(file_path)"
   ]
  },
  {
   "cell_type": "code",
   "execution_count": null,
   "metadata": {},
   "outputs": [],
   "source": []
  }
 ],
 "metadata": {
  "kernelspec": {
   "display_name": "Python 3.8.5 ('ldm')",
   "language": "python",
   "name": "python3"
  },
  "language_info": {
   "codemirror_mode": {
    "name": "ipython",
    "version": 3
   },
   "file_extension": ".py",
   "mimetype": "text/x-python",
   "name": "python",
   "nbconvert_exporter": "python",
   "pygments_lexer": "ipython3",
   "version": "3.8.5"
  },
  "orig_nbformat": 4,
  "vscode": {
   "interpreter": {
    "hash": "0cb9143bc25092399ab70e30ed92a2171ac6ae7868a17b350c997e075bb426cc"
   }
  }
 },
 "nbformat": 4,
 "nbformat_minor": 2
}
