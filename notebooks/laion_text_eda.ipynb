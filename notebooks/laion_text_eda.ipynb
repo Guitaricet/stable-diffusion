{
 "cells": [
  {
   "cell_type": "code",
   "execution_count": 1,
   "metadata": {},
   "outputs": [],
   "source": [
    "import json\n",
    "from PIL import Image\n",
    "from glob import glob\n",
    "\n",
    "from tqdm.auto import tqdm\n",
    "\n",
    "import datasets\n",
    "from IPython.display import display"
   ]
  },
  {
   "cell_type": "code",
   "execution_count": 2,
   "metadata": {},
   "outputs": [
    {
     "data": {
      "application/vnd.jupyter.widget-view+json": {
       "model_id": "1aef821b4c8043a5bc9cf3011d100edb",
       "version_major": 2,
       "version_minor": 0
      },
      "text/plain": [
       "  0%|          | 0/19 [00:00<?, ?it/s]"
      ]
     },
     "metadata": {},
     "output_type": "display_data"
    }
   ],
   "source": [
    "all_data = []\n",
    "\n",
    "path = \"/home/vlialin/data/text-laion-20M-images-with-text/shard*\"\n",
    "for shard in tqdm(sorted(glob(path))):\n",
    "    for json_file in sorted(glob(f\"{shard}/*.json\")):\n",
    "        with open(json_file) as f:\n",
    "            data = json.load(f)\n",
    "            image_path = json_file.replace(\".json\", \".jpg\")\n",
    "            data[\"image_path\"] = image_path\n",
    "            all_data.append(data)"
   ]
  },
  {
   "cell_type": "code",
   "execution_count": 3,
   "metadata": {},
   "outputs": [
    {
     "data": {
      "text/plain": [
       "454492"
      ]
     },
     "execution_count": 3,
     "metadata": {},
     "output_type": "execute_result"
    }
   ],
   "source": [
    "len(all_data)"
   ]
  },
  {
   "cell_type": "code",
   "execution_count": 7,
   "metadata": {},
   "outputs": [
    {
     "data": {
      "text/plain": [
       "{'WIDTH': 630,\n",
       " 'HEIGHT': 630,\n",
       " 'similarity': 0.3289734125137329,\n",
       " 'hash': -8545760988408376051,\n",
       " 'punsafe': 0.009486794471740723,\n",
       " 'pwatermark': 0.45098942518234253,\n",
       " 'caption': 'I am a Donut! And I am delicious',\n",
       " 'url': 'https://res.cloudinary.com/teepublic/image/private/s--Pi8Tu1v6--/t_Resized%20Artwork/c_crop,x_10,y_10/c_fit,w_465/c_crop,g_north_west,h_620,w_465,x_0,y_-107/g_north_west,u_upload:v1446840654:production:blanks:xxlr5aujpichex3rg3uw,x_-391,y_-383/b_rgb:eeeeee/c_limit,f_jpg,h_630,q_90,w_630/v1495685495/production/designs/1623358_1.jpg',\n",
       " 'key': '00000001',\n",
       " 'status': 'success',\n",
       " 'error_message': None,\n",
       " 'width': 512,\n",
       " 'height': 512,\n",
       " 'original_width': 630,\n",
       " 'original_height': 630,\n",
       " 'exif': '{}',\n",
       " 'md5': 'db2f6cb27a2bdb61e4a2281cdadd84d6'}"
      ]
     },
     "execution_count": 7,
     "metadata": {},
     "output_type": "execute_result"
    }
   ],
   "source": [
    "all_data[0]"
   ]
  },
  {
   "cell_type": "code",
   "execution_count": null,
   "metadata": {},
   "outputs": [],
   "source": []
  },
  {
   "cell_type": "code",
   "execution_count": 12,
   "metadata": {},
   "outputs": [],
   "source": [
    "def show_image(data):\n",
    "    image = Image.open(data[\"image_path\"])\n",
    "    display(image)\n",
    "    print(data[\"caption\"])"
   ]
  },
  {
   "cell_type": "code",
   "execution_count": null,
   "metadata": {},
   "outputs": [],
   "source": [
    "for i in range(30):\n",
    "    show_image(all_data[-i])"
   ]
  },
  {
   "cell_type": "code",
   "execution_count": null,
   "metadata": {},
   "outputs": [],
   "source": []
  }
 ],
 "metadata": {
  "kernelspec": {
   "display_name": "Python 3.8.5 ('ldm')",
   "language": "python",
   "name": "python3"
  },
  "language_info": {
   "codemirror_mode": {
    "name": "ipython",
    "version": 3
   },
   "file_extension": ".py",
   "mimetype": "text/x-python",
   "name": "python",
   "nbconvert_exporter": "python",
   "pygments_lexer": "ipython3",
   "version": "3.8.5"
  },
  "orig_nbformat": 4,
  "vscode": {
   "interpreter": {
    "hash": "7b82deec8ef69ed6bf59cb496158b0666eb63a2fbfc73c051e571d4744dc37e2"
   }
  }
 },
 "nbformat": 4,
 "nbformat_minor": 2
}
